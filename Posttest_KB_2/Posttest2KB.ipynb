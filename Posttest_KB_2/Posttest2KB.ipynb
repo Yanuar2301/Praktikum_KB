{
 "cells": [
  {
   "cell_type": "code",
   "execution_count": 4,
   "id": "ad2ad4b0",
   "metadata": {},
   "outputs": [],
   "source": [
    "import pandas as pd"
   ]
  },
  {
   "cell_type": "markdown",
   "id": "3834b050",
   "metadata": {},
   "source": [
    "## Membuka Dataset"
   ]
  },
  {
   "cell_type": "code",
   "execution_count": 5,
   "id": "14372b79",
   "metadata": {},
   "outputs": [],
   "source": [
    "df = pd.read_csv(\"movies.csv\")"
   ]
  },
  {
   "cell_type": "markdown",
   "id": "03fbd54d",
   "metadata": {},
   "source": [
    "## Membuat Dictionary"
   ]
  },
  {
   "cell_type": "code",
   "execution_count": 6,
   "id": "35e914d2",
   "metadata": {},
   "outputs": [],
   "source": [
    "info = {\n",
    "    \"Jumlah Record\"    : df.shape[0],\n",
    "    \"Nama Attribute\"   : df.columns.values,\n",
    "    \"Jumlah Attribute(Objek)\" : df.select_dtypes([\"object\"]).columns,\n",
    "    \"Jumlah Attribute(Angka)\" : df.select_dtypes([\"float64\",\"int64\"]).columns,\n",
    "    \"Jumlah Attribute(Null)\"  : df.loc[:, df.isnull().any()].columns,\n",
    "}"
   ]
  },
  {
   "cell_type": "markdown",
   "id": "e38f6f80",
   "metadata": {},
   "source": [
    "## Jumlah record"
   ]
  },
  {
   "cell_type": "code",
   "execution_count": 7,
   "id": "113c5145",
   "metadata": {},
   "outputs": [
    {
     "name": "stdout",
     "output_type": "stream",
     "text": [
      " Jumlah Record =  5000\n"
     ]
    }
   ],
   "source": [
    "print(\" Jumlah Record = \", info['Jumlah Record'])"
   ]
  },
  {
   "cell_type": "markdown",
   "id": "e655d97d",
   "metadata": {},
   "source": [
    "## Nama attribute\n"
   ]
  },
  {
   "cell_type": "code",
   "execution_count": 8,
   "id": "69e862a3",
   "metadata": {},
   "outputs": [
    {
     "name": "stdout",
     "output_type": "stream",
     "text": [
      "\n",
      " Nama Attribute =  ['poster' 'title' 'certificate' 'runtime' 'genre' 'rating' 'about'\n",
      " 'director' 'stars' 'votes' 'gross_earn']\n"
     ]
    }
   ],
   "source": [
    "print(\"\\n Nama Attribute = \", info['Nama Attribute'])"
   ]
  },
  {
   "cell_type": "markdown",
   "id": "3ce3f761",
   "metadata": {},
   "source": [
    "## Jumlah attribute dengan tipe objek"
   ]
  },
  {
   "cell_type": "code",
   "execution_count": 9,
   "id": "00b12773",
   "metadata": {},
   "outputs": [
    {
     "name": "stdout",
     "output_type": "stream",
     "text": [
      "\n",
      " Jumlah Attribute(Objek) =  10\n"
     ]
    }
   ],
   "source": [
    "print(\"\\n Jumlah Attribute(Objek) = \", len(info['Jumlah Attribute(Objek)']))"
   ]
  },
  {
   "cell_type": "markdown",
   "id": "69e12e80",
   "metadata": {},
   "source": [
    "## Jumlah attribute dengan tipe angka"
   ]
  },
  {
   "cell_type": "code",
   "execution_count": 10,
   "id": "6d76b438",
   "metadata": {},
   "outputs": [
    {
     "name": "stdout",
     "output_type": "stream",
     "text": [
      "\n",
      " Jumlah Attribute(Angka) =  1\n"
     ]
    }
   ],
   "source": [
    "print(\"\\n Jumlah Attribute(Angka) = \", len(info['Jumlah Attribute(Angka)']))"
   ]
  },
  {
   "cell_type": "markdown",
   "id": "bf1869fa",
   "metadata": {},
   "source": [
    "## Jumlah attribute yang memiliki nilai null."
   ]
  },
  {
   "cell_type": "code",
   "execution_count": 11,
   "id": "e3e83b00",
   "metadata": {},
   "outputs": [
    {
     "name": "stdout",
     "output_type": "stream",
     "text": [
      "\n",
      " Jumlah Attribute(Null) =  3\n"
     ]
    }
   ],
   "source": [
    "print(\"\\n Jumlah Attribute(Null) = \", len(info['Jumlah Attribute(Null)']))"
   ]
  },
  {
   "cell_type": "markdown",
   "id": "5df1b379",
   "metadata": {},
   "source": [
    "## Rata-rata, Standar deviasi, Nilai minimum, Nilai maksimum, Q1, Q2, dan Q3\n",
    "### Attribute bertipe angka."
   ]
  },
  {
   "cell_type": "code",
   "execution_count": 12,
   "id": "ea1559b8",
   "metadata": {},
   "outputs": [
    {
     "data": {
      "text/html": [
       "<div>\n",
       "<style scoped>\n",
       "    .dataframe tbody tr th:only-of-type {\n",
       "        vertical-align: middle;\n",
       "    }\n",
       "\n",
       "    .dataframe tbody tr th {\n",
       "        vertical-align: top;\n",
       "    }\n",
       "\n",
       "    .dataframe thead th {\n",
       "        text-align: right;\n",
       "    }\n",
       "</style>\n",
       "<table border=\"1\" class=\"dataframe\">\n",
       "  <thead>\n",
       "    <tr style=\"text-align: right;\">\n",
       "      <th></th>\n",
       "      <th>rating</th>\n",
       "    </tr>\n",
       "  </thead>\n",
       "  <tbody>\n",
       "    <tr>\n",
       "      <th>count</th>\n",
       "      <td>5000.000000</td>\n",
       "    </tr>\n",
       "    <tr>\n",
       "      <th>mean</th>\n",
       "      <td>6.692300</td>\n",
       "    </tr>\n",
       "    <tr>\n",
       "      <th>std</th>\n",
       "      <td>0.973649</td>\n",
       "    </tr>\n",
       "    <tr>\n",
       "      <th>min</th>\n",
       "      <td>1.500000</td>\n",
       "    </tr>\n",
       "    <tr>\n",
       "      <th>25%</th>\n",
       "      <td>6.100000</td>\n",
       "    </tr>\n",
       "    <tr>\n",
       "      <th>50%</th>\n",
       "      <td>6.800000</td>\n",
       "    </tr>\n",
       "    <tr>\n",
       "      <th>75%</th>\n",
       "      <td>7.400000</td>\n",
       "    </tr>\n",
       "    <tr>\n",
       "      <th>max</th>\n",
       "      <td>9.300000</td>\n",
       "    </tr>\n",
       "  </tbody>\n",
       "</table>\n",
       "</div>"
      ],
      "text/plain": [
       "            rating\n",
       "count  5000.000000\n",
       "mean      6.692300\n",
       "std       0.973649\n",
       "min       1.500000\n",
       "25%       6.100000\n",
       "50%       6.800000\n",
       "75%       7.400000\n",
       "max       9.300000"
      ]
     },
     "execution_count": 12,
     "metadata": {},
     "output_type": "execute_result"
    }
   ],
   "source": [
    "df.describe()"
   ]
  },
  {
   "cell_type": "markdown",
   "id": "e4617146",
   "metadata": {},
   "source": [
    "## Nilai korelasi"
   ]
  },
  {
   "cell_type": "code",
   "execution_count": 13,
   "id": "ba8d4d8d",
   "metadata": {},
   "outputs": [
    {
     "data": {
      "text/html": [
       "<div>\n",
       "<style scoped>\n",
       "    .dataframe tbody tr th:only-of-type {\n",
       "        vertical-align: middle;\n",
       "    }\n",
       "\n",
       "    .dataframe tbody tr th {\n",
       "        vertical-align: top;\n",
       "    }\n",
       "\n",
       "    .dataframe thead th {\n",
       "        text-align: right;\n",
       "    }\n",
       "</style>\n",
       "<table border=\"1\" class=\"dataframe\">\n",
       "  <thead>\n",
       "    <tr style=\"text-align: right;\">\n",
       "      <th></th>\n",
       "      <th>rating</th>\n",
       "    </tr>\n",
       "  </thead>\n",
       "  <tbody>\n",
       "    <tr>\n",
       "      <th>rating</th>\n",
       "      <td>1.0</td>\n",
       "    </tr>\n",
       "  </tbody>\n",
       "</table>\n",
       "</div>"
      ],
      "text/plain": [
       "        rating\n",
       "rating     1.0"
      ]
     },
     "execution_count": 13,
     "metadata": {},
     "output_type": "execute_result"
    }
   ],
   "source": [
    "df.corr()"
   ]
  },
  {
   "cell_type": "markdown",
   "id": "a1024282",
   "metadata": {},
   "source": [
    "## Mengubah Nilai Desimal Menjadi Bilangan Bulat"
   ]
  },
  {
   "cell_type": "code",
   "execution_count": 21,
   "id": "b44ab8bc",
   "metadata": {},
   "outputs": [
    {
     "data": {
      "text/html": [
       "<div>\n",
       "<style scoped>\n",
       "    .dataframe tbody tr th:only-of-type {\n",
       "        vertical-align: middle;\n",
       "    }\n",
       "\n",
       "    .dataframe tbody tr th {\n",
       "        vertical-align: top;\n",
       "    }\n",
       "\n",
       "    .dataframe thead th {\n",
       "        text-align: right;\n",
       "    }\n",
       "</style>\n",
       "<table border=\"1\" class=\"dataframe\">\n",
       "  <thead>\n",
       "    <tr style=\"text-align: right;\">\n",
       "      <th></th>\n",
       "      <th>rating</th>\n",
       "    </tr>\n",
       "  </thead>\n",
       "  <tbody>\n",
       "    <tr>\n",
       "      <th>0</th>\n",
       "      <td>9300.0</td>\n",
       "    </tr>\n",
       "    <tr>\n",
       "      <th>1</th>\n",
       "      <td>9000.0</td>\n",
       "    </tr>\n",
       "    <tr>\n",
       "      <th>2</th>\n",
       "      <td>8800.0</td>\n",
       "    </tr>\n",
       "    <tr>\n",
       "      <th>3</th>\n",
       "      <td>8800.0</td>\n",
       "    </tr>\n",
       "    <tr>\n",
       "      <th>4</th>\n",
       "      <td>8900.0</td>\n",
       "    </tr>\n",
       "    <tr>\n",
       "      <th>...</th>\n",
       "      <td>...</td>\n",
       "    </tr>\n",
       "    <tr>\n",
       "      <th>4995</th>\n",
       "      <td>7300.0</td>\n",
       "    </tr>\n",
       "    <tr>\n",
       "      <th>4996</th>\n",
       "      <td>5900.0</td>\n",
       "    </tr>\n",
       "    <tr>\n",
       "      <th>4997</th>\n",
       "      <td>8100.0</td>\n",
       "    </tr>\n",
       "    <tr>\n",
       "      <th>4998</th>\n",
       "      <td>7000.0</td>\n",
       "    </tr>\n",
       "    <tr>\n",
       "      <th>4999</th>\n",
       "      <td>7600.0</td>\n",
       "    </tr>\n",
       "  </tbody>\n",
       "</table>\n",
       "<p>5000 rows × 1 columns</p>\n",
       "</div>"
      ],
      "text/plain": [
       "      rating\n",
       "0     9300.0\n",
       "1     9000.0\n",
       "2     8800.0\n",
       "3     8800.0\n",
       "4     8900.0\n",
       "...      ...\n",
       "4995  7300.0\n",
       "4996  5900.0\n",
       "4997  8100.0\n",
       "4998  7000.0\n",
       "4999  7600.0\n",
       "\n",
       "[5000 rows x 1 columns]"
      ]
     },
     "execution_count": 21,
     "metadata": {},
     "output_type": "execute_result"
    }
   ],
   "source": [
    "df.select_dtypes([\"float64\"])*1000"
   ]
  },
  {
   "cell_type": "markdown",
   "id": "4aba256f",
   "metadata": {},
   "source": [
    "## 10 Record pertama dari attribute bertipe angka."
   ]
  },
  {
   "cell_type": "code",
   "execution_count": 22,
   "id": "51b85186",
   "metadata": {},
   "outputs": [
    {
     "data": {
      "text/html": [
       "<div>\n",
       "<style scoped>\n",
       "    .dataframe tbody tr th:only-of-type {\n",
       "        vertical-align: middle;\n",
       "    }\n",
       "\n",
       "    .dataframe tbody tr th {\n",
       "        vertical-align: top;\n",
       "    }\n",
       "\n",
       "    .dataframe thead th {\n",
       "        text-align: right;\n",
       "    }\n",
       "</style>\n",
       "<table border=\"1\" class=\"dataframe\">\n",
       "  <thead>\n",
       "    <tr style=\"text-align: right;\">\n",
       "      <th></th>\n",
       "      <th>rating</th>\n",
       "    </tr>\n",
       "  </thead>\n",
       "  <tbody>\n",
       "    <tr>\n",
       "      <th>0</th>\n",
       "      <td>9.3</td>\n",
       "    </tr>\n",
       "    <tr>\n",
       "      <th>1</th>\n",
       "      <td>9.0</td>\n",
       "    </tr>\n",
       "    <tr>\n",
       "      <th>2</th>\n",
       "      <td>8.8</td>\n",
       "    </tr>\n",
       "    <tr>\n",
       "      <th>3</th>\n",
       "      <td>8.8</td>\n",
       "    </tr>\n",
       "    <tr>\n",
       "      <th>4</th>\n",
       "      <td>8.9</td>\n",
       "    </tr>\n",
       "    <tr>\n",
       "      <th>5</th>\n",
       "      <td>8.8</td>\n",
       "    </tr>\n",
       "    <tr>\n",
       "      <th>6</th>\n",
       "      <td>8.8</td>\n",
       "    </tr>\n",
       "    <tr>\n",
       "      <th>7</th>\n",
       "      <td>8.7</td>\n",
       "    </tr>\n",
       "    <tr>\n",
       "      <th>8</th>\n",
       "      <td>9.0</td>\n",
       "    </tr>\n",
       "    <tr>\n",
       "      <th>9</th>\n",
       "      <td>9.2</td>\n",
       "    </tr>\n",
       "  </tbody>\n",
       "</table>\n",
       "</div>"
      ],
      "text/plain": [
       "   rating\n",
       "0     9.3\n",
       "1     9.0\n",
       "2     8.8\n",
       "3     8.8\n",
       "4     8.9\n",
       "5     8.8\n",
       "6     8.8\n",
       "7     8.7\n",
       "8     9.0\n",
       "9     9.2"
      ]
     },
     "execution_count": 22,
     "metadata": {},
     "output_type": "execute_result"
    }
   ],
   "source": [
    "angka=df.select_dtypes([\"float64\"])\n",
    "angka.head(10)"
   ]
  },
  {
   "cell_type": "markdown",
   "id": "a6afd0f1",
   "metadata": {},
   "source": [
    "## Simpan dataset dengan attribute bertipe angka"
   ]
  },
  {
   "cell_type": "code",
   "execution_count": 68,
   "id": "4b355c57",
   "metadata": {},
   "outputs": [
    {
     "name": "stderr",
     "output_type": "stream",
     "text": [
      "C:\\Users\\gideo\\AppData\\Local\\Temp\\ipykernel_580\\3311415310.py:1: FutureWarning: Passing a set as an indexer is deprecated and will raise in a future version. Use a list instead.\n",
      "  df[{\"rating\"}].to_csv(\"Rating.csv\")\n"
     ]
    }
   ],
   "source": [
    "df[{\"rating\"}].to_csv(\"Rating.csv\")"
   ]
  },
  {
   "cell_type": "code",
   "execution_count": null,
   "id": "f8d857ba",
   "metadata": {},
   "outputs": [],
   "source": []
  }
 ],
 "metadata": {
  "kernelspec": {
   "display_name": "Python 3 (ipykernel)",
   "language": "python",
   "name": "python3"
  },
  "language_info": {
   "codemirror_mode": {
    "name": "ipython",
    "version": 3
   },
   "file_extension": ".py",
   "mimetype": "text/x-python",
   "name": "python",
   "nbconvert_exporter": "python",
   "pygments_lexer": "ipython3",
   "version": "3.10.7"
  }
 },
 "nbformat": 4,
 "nbformat_minor": 5
}
